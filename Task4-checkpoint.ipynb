{
 "cells": [
  {
   "cell_type": "code",
   "execution_count": 7,
   "id": "694124cc-e4ec-41e6-bd29-4a9c4d81ebc5",
   "metadata": {},
   "outputs": [
    {
     "name": "stdout",
     "output_type": "stream",
     "text": [
      "Union:  {0, 1, 2, 3, 4, 5, 6, 7, 8}\n",
      "Intersection:  {8, 2, 4, 6}\n",
      "Difference:  {0}\n",
      "Symmetric Difference:  {0, 1, 3, 5, 7}\n"
     ]
    }
   ],
   "source": [
    "Even = {0,2,4,6,8}\n",
    "Natural = {1,2,3,4,5,6,7,8}\n",
    "print(\"Union: \",Even|Natural)\n",
    "print(\"Intersection: \",Even&Natural)\n",
    "print(\"Difference: \",Even - Natural)\n",
    "print(\"Symmetric Difference: \",Even^Natural)"
   ]
  },
  {
   "cell_type": "code",
   "execution_count": null,
   "id": "c1251c50-2b26-48f3-a0e8-eb287deab051",
   "metadata": {},
   "outputs": [],
   "source": []
  }
 ],
 "metadata": {
  "kernelspec": {
   "display_name": "Python [conda env:base] *",
   "language": "python",
   "name": "conda-base-py"
  },
  "language_info": {
   "codemirror_mode": {
    "name": "ipython",
    "version": 3
   },
   "file_extension": ".py",
   "mimetype": "text/x-python",
   "name": "python",
   "nbconvert_exporter": "python",
   "pygments_lexer": "ipython3",
   "version": "3.12.7"
  }
 },
 "nbformat": 4,
 "nbformat_minor": 5
}
